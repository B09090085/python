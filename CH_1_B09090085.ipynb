{
  "nbformat": 4,
  "nbformat_minor": 0,
  "metadata": {
    "colab": {
      "name": "CH.1 B09090085.ipynb",
      "provenance": [],
      "collapsed_sections": [],
      "authorship_tag": "ABX9TyNMLreiSXdQFiW2B7EAHGW8",
      "include_colab_link": true
    },
    "kernelspec": {
      "name": "python3",
      "display_name": "Python 3"
    },
    "language_info": {
      "name": "python"
    }
  },
  "cells": [
    {
      "cell_type": "markdown",
      "metadata": {
        "id": "view-in-github",
        "colab_type": "text"
      },
      "source": [
        "<a href=\"https://colab.research.google.com/github/B09090085/python/blob/main/CH_1_B09090085.ipynb\" target=\"_parent\"><img src=\"https://colab.research.google.com/assets/colab-badge.svg\" alt=\"Open In Colab\"/></a>"
      ]
    },
    {
      "cell_type": "code",
      "execution_count": null,
      "metadata": {
        "id": "WHK87ABDNJ61",
        "colab": {
          "base_uri": "https://localhost:8080/"
        },
        "outputId": "62380f34-7389-489e-c156-58807d93b2f9"
      },
      "outputs": [
        {
          "output_type": "stream",
          "name": "stdout",
          "text": [
            "8\n",
            "10\n",
            "1\n",
            "10\n",
            "1\n",
            "10\n",
            "1\n",
            "3\n",
            "4\n",
            "5\n",
            "4 8 125\n",
            "<class 'int'>\n",
            "<class 'float'>\n",
            "<class 'str'>\n",
            "<class 'bool'>\n",
            "3.3333333333333335\n",
            "3\n",
            "1\n",
            "This is a book\n",
            "Thisisabook\n",
            "This is a book\n",
            "123456.79\n",
            "123,456.79\n"
          ]
        }
      ],
      "source": [
        "#變數\n",
        "a=3  \n",
        "b=5\n",
        "print(a+b)\n",
        "\n",
        "\n",
        "x=1\n",
        "y=10\n",
        "\n",
        "z=x\n",
        "x=y\n",
        "y=z\n",
        "print(x)\n",
        "print(y)\n",
        "x=1\n",
        "y=10\n",
        "#運算子\n",
        "x=x+y\n",
        "y=x-y\n",
        "x=x-y\n",
        "print(x)\n",
        "print(y)\n",
        "#變數多行\n",
        "x=1\n",
        "y=10\n",
        "x,y = y,x\n",
        "print(x)\n",
        "print(y)\n",
        "x, y, z= 3, 4, 5\n",
        "print(x)\n",
        "print(y)\n",
        "print(z)\n",
        "#乘法\n",
        "x, y, z = 3, 4, 5\n",
        "x += 1 \n",
        "y *= 2 \n",
        "z **= 3 \n",
        "print(x, y, z)\n",
        "#屬性\n",
        "x=254\n",
        "print(type(x))\n",
        "y=254.0\n",
        "print(type(y))\n",
        "z='write'\n",
        "print(type(z))\n",
        "print(type(x==y))\n",
        "#除、商；餘數\n",
        "x=10\n",
        "y=3\n",
        "print(x/y)  \n",
        "print(x//y) \n",
        "print(x%y)  \n",
        "#字串相加\n",
        "print(\"This\", \"is\", \"a\", \"book\")\n",
        "print(\"This\"+\"is\"+\"a\"+\"book\")\n",
        "\n",
        "print(\"This {} a book\".format(\"is\"))\n",
        "x=123456.7890\n",
        "print(\"{:.2f}\".format(x))  \n",
        "print(\"{:,.2f}\".format(x)) "
      ]
    },
    {
      "cell_type": "code",
      "source": [
        "x=1\n",
        "y=10\n",
        "\n",
        "z=x\n",
        "x=y\n",
        "y=z\n",
        "print(x)\n",
        "print(y)\n",
        "'''\n",
        "多行註解\n",
        "多行註解\n",
        "多行註解\n",
        "'''"
      ],
      "metadata": {
        "colab": {
          "base_uri": "https://localhost:8080/",
          "height": 70
        },
        "id": "0hujug-uTepq",
        "outputId": "e5f38783-638f-4b00-a72b-12f580449769"
      },
      "execution_count": null,
      "outputs": [
        {
          "output_type": "stream",
          "name": "stdout",
          "text": [
            "10\n",
            "1\n"
          ]
        },
        {
          "output_type": "execute_result",
          "data": {
            "text/plain": [
              "'\\n多行註解\\n多行註解\\n多行註解\\n'"
            ],
            "application/vnd.google.colaboratory.intrinsic+json": {
              "type": "string"
            }
          },
          "metadata": {},
          "execution_count": 4
        }
      ]
    },
    {
      "cell_type": "code",
      "source": [
        "x=1\n",
        "y=10\n",
        "#運算子\n",
        "x=x+y\n",
        "y=x-y\n",
        "x=x-y\n",
        "print(x)\n",
        "print(y)"
      ],
      "metadata": {
        "colab": {
          "base_uri": "https://localhost:8080/"
        },
        "id": "P_ht4FUgTsr6",
        "outputId": "2eb57f1f-e67c-4d8c-96e8-d9bc9f79f5dc"
      },
      "execution_count": null,
      "outputs": [
        {
          "output_type": "stream",
          "name": "stdout",
          "text": [
            "10\n",
            "1\n"
          ]
        }
      ]
    },
    {
      "cell_type": "code",
      "source": [
        "#變數多行\n",
        "x=1\n",
        "y=10\n",
        "x,y = y,x\n",
        "print(x)\n",
        "print(y)\n",
        "x, y, z= 3, 4, 5\n",
        "print(x)\n",
        "print(y)\n",
        "print(z)"
      ],
      "metadata": {
        "colab": {
          "base_uri": "https://localhost:8080/"
        },
        "id": "4RQrU9xDT6p7",
        "outputId": "cf2b2b45-c2ae-4596-bda5-488409c76c10"
      },
      "execution_count": null,
      "outputs": [
        {
          "output_type": "stream",
          "name": "stdout",
          "text": [
            "10\n",
            "1\n",
            "3\n",
            "4\n",
            "5\n"
          ]
        }
      ]
    },
    {
      "cell_type": "code",
      "source": [
        "#乘法\n",
        "x, y, z = 3, 4, 5\n",
        "x += 1 \n",
        "y *= 2 \n",
        "z **= 3 \n",
        "print(x, y, z)"
      ],
      "metadata": {
        "id": "WsF7iQO2T-K6"
      },
      "execution_count": null,
      "outputs": []
    }
  ]
}