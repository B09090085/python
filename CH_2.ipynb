{
  "nbformat": 4,
  "nbformat_minor": 0,
  "metadata": {
    "colab": {
      "name": "CH.2",
      "provenance": [],
      "authorship_tag": "ABX9TyOIkZgzF6h50dZC9Y7rbEQs",
      "include_colab_link": true
    },
    "kernelspec": {
      "name": "python3",
      "display_name": "Python 3"
    },
    "language_info": {
      "name": "python"
    }
  },
  "cells": [
    {
      "cell_type": "markdown",
      "metadata": {
        "id": "view-in-github",
        "colab_type": "text"
      },
      "source": [
        "<a href=\"https://colab.research.google.com/github/B09090085/python/blob/main/CH_2.ipynb\" target=\"_parent\"><img src=\"https://colab.research.google.com/assets/colab-badge.svg\" alt=\"Open In Colab\"/></a>"
      ]
    },
    {
      "cell_type": "code",
      "execution_count": null,
      "metadata": {
        "colab": {
          "base_uri": "https://localhost:8080/"
        },
        "id": "5TS7kpWcXLCW",
        "outputId": "69b75753-a535-4eca-f2a8-00f84f344454"
      },
      "outputs": [
        {
          "output_type": "stream",
          "name": "stdout",
          "text": [
            "a\n",
            "a\n"
          ]
        }
      ],
      "source": [
        "#如果\n",
        "a=3\n",
        "b=4\n",
        "if a>b :\n",
        "  print(\"a>b\")\n",
        "print(\"a\")\n",
        "print(\"a\")"
      ]
    },
    {
      "cell_type": "code",
      "source": [
        "#FOR迴圈\n",
        "a=eval(input(\"請輸入數字a:\"))\n",
        "b=eval(input(\"請輸入數字b\"))\n",
        "if a>b :\n",
        "  print(\"a>b\")\n",
        "elif a==b:\n",
        "  print(\"a=b\")\n",
        "else:\n",
        "  print(\"b>a\")"
      ],
      "metadata": {
        "colab": {
          "base_uri": "https://localhost:8080/"
        },
        "id": "Wl0nYntzXX5r",
        "outputId": "c11569d7-9238-4c01-c1e9-09827c28fe62"
      },
      "execution_count": null,
      "outputs": [
        {
          "output_type": "stream",
          "name": "stdout",
          "text": [
            "請輸入數字a:5\n",
            "請輸入數字b4\n",
            "a>b\n"
          ]
        }
      ]
    },
    {
      "cell_type": "code",
      "source": [
        "#數字總和\n",
        "sum=0\n",
        "for count in range(1,11,1):\n",
        "  sum=sum+count\n",
        "\n",
        "print(sum)"
      ],
      "metadata": {
        "colab": {
          "base_uri": "https://localhost:8080/"
        },
        "id": "AaxzD8LCXrXp",
        "outputId": "610fd26b-58f1-4f2f-e820-1709a5d31438"
      },
      "execution_count": null,
      "outputs": [
        {
          "output_type": "stream",
          "name": "stdout",
          "text": [
            "55\n"
          ]
        }
      ]
    },
    {
      "cell_type": "code",
      "source": [
        "#字串迴圈\n",
        "for s in [\"john\",\"mary\",\"tom\",\"simpson\"]:\n",
        "  print(s)\n",
        "  "
      ],
      "metadata": {
        "colab": {
          "base_uri": "https://localhost:8080/"
        },
        "id": "vwnGVcGZXtkB",
        "outputId": "bb86b6c4-3233-4574-bfa2-6094522ef3bd"
      },
      "execution_count": null,
      "outputs": [
        {
          "output_type": "stream",
          "name": "stdout",
          "text": [
            "john\n",
            "mary\n",
            "tom\n",
            "simpson\n"
          ]
        }
      ]
    },
    {
      "cell_type": "code",
      "source": [
        "grade=eval(input(\"請輸入數字成績:\"))\n",
        "print(\"成績評鑑：\")\n",
        "if grade >= 90:\n",
        "    print(\"優等\")\n",
        "elif grade >=80:\n",
        "    print(\"甲等\")\n",
        "elif grade >=70:\n",
        "    print(\"乙等\")\n",
        "elif grade >=60:\n",
        "    print(\"丙等\")\n",
        "else:\n",
        "    print(\"不及格\")"
      ],
      "metadata": {
        "colab": {
          "base_uri": "https://localhost:8080/"
        },
        "id": "gJ-arYhxX-fR",
        "outputId": "cee04e83-95fd-482c-d68e-f192505ce3cf"
      },
      "execution_count": 5,
      "outputs": [
        {
          "output_type": "stream",
          "name": "stdout",
          "text": [
            "請輸入數字成績:90\n",
            "成績評鑑：\n",
            "優等\n"
          ]
        }
      ]
    },
    {
      "cell_type": "code",
      "source": [
        "#while迴圈 (帳號密碼登入)\n",
        "id=\"tony\"\n",
        "pw=\"1234\"\n",
        "while True:\n",
        "  a=input(\"輸入帳號\")\n",
        "  b=input(\"輸入密碼\")\n",
        "  if a==id and b==pw:\n",
        "    print(\"歡迎登入\")\n",
        "    break\n",
        "  else:\n",
        "    print(\"帳號或密碼錯誤\")\n"
      ],
      "metadata": {
        "colab": {
          "base_uri": "https://localhost:8080/"
        },
        "id": "-ISYqh6gXlwf",
        "outputId": "c6d4be74-bff9-4224-bf32-940f1923432e"
      },
      "execution_count": 6,
      "outputs": [
        {
          "output_type": "stream",
          "name": "stdout",
          "text": [
            "輸入帳號tony\n",
            "輸入密碼1234\n",
            "歡迎登入\n"
          ]
        }
      ]
    },
    {
      "cell_type": "code",
      "source": [
        "import random\n",
        "for i in range(10):\n",
        "  print(random.randint(1,9))#會產生1~9的變數"
      ],
      "metadata": {
        "colab": {
          "base_uri": "https://localhost:8080/"
        },
        "id": "llvGmzceX7Hd",
        "outputId": "cad13f06-1483-48c7-d8e6-fea606df7181"
      },
      "execution_count": 7,
      "outputs": [
        {
          "output_type": "stream",
          "name": "stdout",
          "text": [
            "8\n",
            "7\n",
            "4\n",
            "2\n",
            "8\n",
            "6\n",
            "8\n",
            "7\n",
            "6\n",
            "4\n"
          ]
        }
      ]
    }
  ]
}