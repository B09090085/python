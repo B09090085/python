{
  "nbformat": 4,
  "nbformat_minor": 0,
  "metadata": {
    "colab": {
      "name": "CH.2",
      "provenance": [],
      "authorship_tag": "ABX9TyOHMUr6xthfiboe3FH3d6zn",
      "include_colab_link": true
    },
    "kernelspec": {
      "name": "python3",
      "display_name": "Python 3"
    },
    "language_info": {
      "name": "python"
    }
  },
  "cells": [
    {
      "cell_type": "markdown",
      "metadata": {
        "id": "view-in-github",
        "colab_type": "text"
      },
      "source": [
        "<a href=\"https://colab.research.google.com/github/B09090085/python/blob/main/CH_2.ipynb\" target=\"_parent\"><img src=\"https://colab.research.google.com/assets/colab-badge.svg\" alt=\"Open In Colab\"/></a>"
      ]
    },
    {
      "cell_type": "code",
      "execution_count": 1,
      "metadata": {
        "colab": {
          "base_uri": "https://localhost:8080/"
        },
        "id": "5TS7kpWcXLCW",
        "outputId": "69b75753-a535-4eca-f2a8-00f84f344454"
      },
      "outputs": [
        {
          "output_type": "stream",
          "name": "stdout",
          "text": [
            "a\n",
            "a\n"
          ]
        }
      ],
      "source": [
        "#如果\n",
        "a=3\n",
        "b=4\n",
        "if a>b :\n",
        "  print(\"a>b\")\n",
        "print(\"a\")\n",
        "print(\"a\")"
      ]
    },
    {
      "cell_type": "code",
      "source": [
        "#FOR迴圈\n",
        "a=eval(input(\"請輸入數字a:\"))\n",
        "b=eval(input(\"請輸入數字b\"))\n",
        "if a>b :\n",
        "  print(\"a>b\")\n",
        "elif a==b:\n",
        "  print(\"a=b\")\n",
        "else:\n",
        "  print(\"b>a\")"
      ],
      "metadata": {
        "colab": {
          "base_uri": "https://localhost:8080/"
        },
        "id": "Wl0nYntzXX5r",
        "outputId": "c11569d7-9238-4c01-c1e9-09827c28fe62"
      },
      "execution_count": 2,
      "outputs": [
        {
          "output_type": "stream",
          "name": "stdout",
          "text": [
            "請輸入數字a:5\n",
            "請輸入數字b4\n",
            "a>b\n"
          ]
        }
      ]
    },
    {
      "cell_type": "code",
      "source": [
        "#數字總和\n",
        "sum=0\n",
        "for count in range(1,11,1):\n",
        "  sum=sum+count\n",
        "\n",
        "print(sum)"
      ],
      "metadata": {
        "colab": {
          "base_uri": "https://localhost:8080/"
        },
        "id": "AaxzD8LCXrXp",
        "outputId": "610fd26b-58f1-4f2f-e820-1709a5d31438"
      },
      "execution_count": 3,
      "outputs": [
        {
          "output_type": "stream",
          "name": "stdout",
          "text": [
            "55\n"
          ]
        }
      ]
    },
    {
      "cell_type": "code",
      "source": [
        "#字串迴圈\n",
        "for s in [\"john\",\"mary\",\"tom\",\"simpson\"]:\n",
        "  print(s)\n",
        "  "
      ],
      "metadata": {
        "colab": {
          "base_uri": "https://localhost:8080/"
        },
        "id": "vwnGVcGZXtkB",
        "outputId": "bb86b6c4-3233-4574-bfa2-6094522ef3bd"
      },
      "execution_count": 4,
      "outputs": [
        {
          "output_type": "stream",
          "name": "stdout",
          "text": [
            "john\n",
            "mary\n",
            "tom\n",
            "simpson\n"
          ]
        }
      ]
    },
    {
      "cell_type": "code",
      "source": [
        "grade=eval(input(\"請輸入數字成績:\"))\n",
        "print(\"成績評鑑：\")\n",
        "if grade >= 90:\n",
        "    print(\"優等\")\n",
        "elif grade >=80:\n",
        "    print(\"甲等\")\n",
        "elif grade >=70:\n",
        "    print(\"乙等\")\n",
        "elif grade >=60:\n",
        "    print(\"丙等\")\n",
        "else:\n",
        "    print(\"不及格\")"
      ],
      "metadata": {
        "colab": {
          "base_uri": "https://localhost:8080/"
        },
        "id": "gJ-arYhxX-fR",
        "outputId": "a98a378e-9d49-4d15-eaad-468095307ae0"
      },
      "execution_count": 5,
      "outputs": [
        {
          "output_type": "stream",
          "name": "stdout",
          "text": [
            "請輸入數字成績:90\n",
            "成績評鑑：\n",
            "優等\n"
          ]
        }
      ]
    }
  ]
}