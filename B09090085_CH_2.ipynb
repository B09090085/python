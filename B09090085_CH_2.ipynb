{
  "nbformat": 4,
  "nbformat_minor": 0,
  "metadata": {
    "colab": {
      "name": "B09090085 CH.2",
      "provenance": [],
      "collapsed_sections": [],
      "authorship_tag": "ABX9TyOjc9tHmRJ8iT8mwubER8ft",
      "include_colab_link": true
    },
    "kernelspec": {
      "name": "python3",
      "display_name": "Python 3"
    },
    "language_info": {
      "name": "python"
    }
  },
  "cells": [
    {
      "cell_type": "markdown",
      "metadata": {
        "id": "view-in-github",
        "colab_type": "text"
      },
      "source": [
        "<a href=\"https://colab.research.google.com/github/B09090085/python/blob/main/B09090085_CH_2.ipynb\" target=\"_parent\"><img src=\"https://colab.research.google.com/assets/colab-badge.svg\" alt=\"Open In Colab\"/></a>"
      ]
    },
    {
      "cell_type": "code",
      "execution_count": null,
      "metadata": {
        "id": "I0VPpnZ8C7G2"
      },
      "outputs": [],
      "source": [
        "#判別式\n",
        "a=eval(input(\"輸入數字.1:\"))\n",
        "b=eval(input(\"輸入數字.2:\"))\n",
        "if a>b:\n",
        "  print(\"a>b\")\n",
        "elif a<b:\n",
        "  print(\"a<b\")\n",
        "else:\n",
        "  print(\"a=b\")\n",
        "\n",
        "grade=eval(input(\"輸入成績:\"))\n",
        "if grade==100:\n",
        "  print(\"100分\")\n",
        "elif grade>=90 :\n",
        "   print(\"優等\")\n",
        "elif grade>=80 :\n",
        "   print(\"甲等\")\n",
        "elif grade>=70 :\n",
        "   print(\"乙等\")\n",
        "elif grade>=60:\n",
        "   print(\"丙等\")\n",
        "else:\n",
        "  print(\"不及格\") \n",
        "#FOR迴圈\n",
        "for i in range(0,10,1):\n",
        "  print(i) \n",
        "  sum=0\n",
        "for c in range(1,11,1):\n",
        "  \n",
        "  sum=sum+c\n",
        "\n",
        "  print(sum)\n",
        "for v in(\"i\",\"im\",\"a\",\"boy\"):\n",
        "  print(v)\n",
        "#while迴圈\n",
        "g=1\n",
        "while g<11:\n",
        "    g=g+1\n",
        "    print(g)\n",
        "                \n"
      ]
    },
    {
      "cell_type": "code",
      "source": [
        ""
      ],
      "metadata": {
        "id": "NG-LVjzHRnjV"
      },
      "execution_count": null,
      "outputs": []
    }
  ]
}